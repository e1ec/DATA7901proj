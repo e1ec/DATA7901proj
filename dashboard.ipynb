{
 "cells": [
  {
   "cell_type": "code",
   "execution_count": 1,
   "id": "b319ef04",
   "metadata": {
    "scrolled": false
   },
   "outputs": [
    {
     "name": "stderr",
     "output_type": "stream",
     "text": [
      "C:\\Users\\59704\\AppData\\Local\\Temp/ipykernel_1676508/3594559953.py:3: UserWarning: \n",
      "The dash_core_components package is deprecated. Please replace\n",
      "`import dash_core_components as dcc` with `from dash import dcc`\n",
      "  import dash_core_components as dcc\n",
      "C:\\Users\\59704\\AppData\\Local\\Temp/ipykernel_1676508/3594559953.py:4: UserWarning: \n",
      "The dash_html_components package is deprecated. Please replace\n",
      "`import dash_html_components as html` with `from dash import html`\n",
      "  import dash_html_components as html\n"
     ]
    },
    {
     "data": {
      "text/html": [
       "\n",
       "        <iframe\n",
       "            width=\"100%\"\n",
       "            height=\"650\"\n",
       "            src=\"http://127.0.0.1:8050/\"\n",
       "            frameborder=\"0\"\n",
       "            allowfullscreen\n",
       "            \n",
       "        ></iframe>\n",
       "        "
      ],
      "text/plain": [
       "<IPython.lib.display.IFrame at 0x187d824cc40>"
      ]
     },
     "metadata": {},
     "output_type": "display_data"
    }
   ],
   "source": [
    "import pandas as pd\n",
    "import dash\n",
    "import dash_core_components as dcc\n",
    "import dash_html_components as html\n",
    "from dash.dependencies import Input, Output\n",
    "import plotly.express as px\n",
    "\n",
    "# Load your dataset\n",
    "df = pd.read_csv('dataset_space_API_past_launches_raw.csv')  # Replace with your dataset path\n",
    "df = df[df['BoosterVersion'] == 'Falcon 9']\n",
    "df['PayloadMass'].fillna(df['PayloadMass'].mean(), inplace=True)\n",
    "# Function to classify landing outcome as successful (1) or unsuccessful (0)\n",
    "def classify_landing_outcome(outcome):\n",
    "    if 'True' in outcome:\n",
    "        return 1\n",
    "    else:\n",
    "        return 0\n",
    "\n",
    "# Create a 'LandingOutcome' column\n",
    "df['LandingOutcome'] = df['Outcome'].apply(classify_landing_outcome)\n",
    "\n",
    "# Initialize your Dash app\n",
    "app = dash.Dash(__name__)\n",
    "\n",
    "# App layout\n",
    "app.layout = html.Div([\n",
    "    # Dropdown for selecting a launch site\n",
    "    dcc.Dropdown(\n",
    "        id='launch-site-dropdown',\n",
    "        options=[{'label': i, 'value': i} for i in df['LaunchSite'].unique()],\n",
    "        value='All Sites'\n",
    "    ),\n",
    "    # Pie chart for launch site success rate\n",
    "    dcc.Graph(id='success-rate-pie-chart'),\n",
    "\n",
    "    # Range slider for payload mass\n",
    "    dcc.RangeSlider(\n",
    "        id='payload-range-slider',\n",
    "        min=df['PayloadMass'].min(),\n",
    "        max=df['PayloadMass'].max(),\n",
    "        value=[df['PayloadMass'].min(), df['PayloadMass'].max()],\n",
    "        marks={str(i): str(i) for i in range(int(df['PayloadMass'].min()), int(df['PayloadMass'].max()), 1000)}\n",
    "    ),\n",
    "    # Graphs for payload mass vs. landing outcome, payload mass for all sites\n",
    "    dcc.Graph(id='payload-mass-landing-outcome-graph'),\n",
    "    dcc.Graph(id='payload-mass-all-sites-graph')\n",
    "])\n",
    "\n",
    "# Callback for updating the pie chart\n",
    "@app.callback(\n",
    "    Output('success-rate-pie-chart', 'figure'),\n",
    "    Input('launch-site-dropdown', 'value'))\n",
    "def update_pie_chart(selected_site):\n",
    "    if selected_site == 'All Sites':\n",
    "        filtered_df = df\n",
    "    else:\n",
    "        filtered_df = df[df['LaunchSite'] == selected_site]\n",
    "    fig = px.pie(filtered_df, names='LandingOutcome', title='Landing Success Rate')\n",
    "    return fig\n",
    "\n",
    "# Callback for updating the payload mass graphs\n",
    "@app.callback(\n",
    "    [Output('payload-mass-landing-outcome-graph', 'figure'),\n",
    "     Output('payload-mass-all-sites-graph', 'figure')],\n",
    "    Input('payload-range-slider', 'value'))\n",
    "def update_payload_graphs(payload_range):\n",
    "    filtered_df = df[(df['PayloadMass'] >= payload_range[0]) & (df['PayloadMass'] <= payload_range[1])]\n",
    "    fig1 = px.scatter(filtered_df, x='PayloadMass', y='LandingOutcome', color='LaunchSite', title='Payload Mass vs. Landing Outcome')\n",
    "    fig2 = px.scatter(filtered_df, x='PayloadMass', y='LaunchSite', color='LandingOutcome', title='Payload Mass vs. Launch Site')\n",
    "    return fig1, fig2\n",
    "\n",
    "# Run the Dash app\n",
    "if __name__ == '__main__':\n",
    "    app.run_server(debug=True)\n"
   ]
  },
  {
   "cell_type": "code",
   "execution_count": null,
   "id": "03d33276",
   "metadata": {},
   "outputs": [],
   "source": []
  }
 ],
 "metadata": {
  "kernelspec": {
   "display_name": "Python 3 (ipykernel)",
   "language": "python",
   "name": "python3"
  },
  "language_info": {
   "codemirror_mode": {
    "name": "ipython",
    "version": 3
   },
   "file_extension": ".py",
   "mimetype": "text/x-python",
   "name": "python",
   "nbconvert_exporter": "python",
   "pygments_lexer": "ipython3",
   "version": "3.9.7"
  }
 },
 "nbformat": 4,
 "nbformat_minor": 5
}
